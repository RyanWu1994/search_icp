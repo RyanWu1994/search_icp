{
 "cells": [
  {
   "cell_type": "code",
   "execution_count": 1,
   "metadata": {},
   "outputs": [],
   "source": [
    "import requests\n",
    "import pandas as pd\n",
    "import json\n",
    "import mysql.connector\n",
    "from sqlalchemy import create_engine\n",
    "from fake_useragent import UserAgent\n"
   ]
  },
  {
   "cell_type": "code",
   "execution_count": 7,
   "metadata": {},
   "outputs": [],
   "source": [
    "domain = \"ej1558.com\"\n",
    "url = \"http://api.uomg.com/api/icp?domain=\"+domain\n",
    "\n",
    "ua = UserAgent()\n",
    "headers = {\n",
    "  'Cookie': '__cfduid=d0331667ee25d4a9cb3c7b4546266eb7d1612433481; PHPSESSID=u5oe4v862iodthp1sm76dnhc99',\n",
    "  \"User-Agent\":ua.random\n",
    "}\n",
    "\n",
    "response = requests.request(\"GET\", url, headers=headers)\n",
    "api = json.loads(response.text)\n"
   ]
  },
  {
   "cell_type": "code",
   "execution_count": 8,
   "metadata": {},
   "outputs": [
    {
     "name": "stdout",
     "output_type": "stream",
     "text": [
      "[{'code': 1, 'domain': 'ej1558.com', 'icp': '未备案'}]\n"
     ]
    }
   ],
   "source": [
    "result = []\n",
    "result.append(api)\n",
    "print(result)"
   ]
  },
  {
   "cell_type": "raw",
   "metadata": {},
   "source": []
  }
 ],
 "metadata": {
  "kernelspec": {
   "display_name": "Python 3",
   "language": "python",
   "name": "python3"
  },
  "language_info": {
   "codemirror_mode": {
    "name": "ipython",
    "version": 3
   },
   "file_extension": ".py",
   "mimetype": "text/x-python",
   "name": "python",
   "nbconvert_exporter": "python",
   "pygments_lexer": "ipython3",
   "version": "3.6.9"
  }
 },
 "nbformat": 4,
 "nbformat_minor": 2
}
